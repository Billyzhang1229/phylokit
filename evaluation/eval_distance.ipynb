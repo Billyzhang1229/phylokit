{
 "cells": [
  {
   "cell_type": "markdown",
   "metadata": {},
   "source": [
    "# 1. Setup"
   ]
  },
  {
   "cell_type": "code",
   "execution_count": 44,
   "metadata": {},
   "outputs": [],
   "source": [
    "# import system modules\n",
    "import time\n",
    "import sys\n",
    "import os\n",
    "from random import randint\n",
    "import itertools\n",
    "\n",
    "# import third-party modules\n",
    "import numpy as np\n",
    "import matplotlib.pyplot as plt\n",
    "from tqdm import trange, tqdm\n",
    "import msprime\n",
    "\n",
    "# import comparrison modules\n",
    "import tskit\n",
    "import dendropy\n",
    "\n",
    "# import local phylokit modules\n",
    "phylokit_path = os.path.abspath(os.path.join(os.pardir))\n",
    "if phylokit_path not in sys.path:\n",
    "    sys.path.append(phylokit_path)\n",
    "\n",
    "import phylokit as pk\n",
    "\n",
    "# set recursion limit\n",
    "sys.setrecursionlimit(10000)"
   ]
  },
  {
   "cell_type": "code",
   "execution_count": 45,
   "metadata": {},
   "outputs": [],
   "source": [
    "# Constants\n",
    "LEAVES = 100000\n",
    "REPEAT = 10\n",
    "\n",
    "MIN_LEAVES = 100\n",
    "MAX_LEAVES = 1000\n",
    "STEP = 100\n",
    "\n",
    "NUM_LEAVES = list(range(MIN_LEAVES, MAX_LEAVES, STEP))"
   ]
  },
  {
   "cell_type": "markdown",
   "metadata": {},
   "source": [
    "### CPU INFO"
   ]
  },
  {
   "cell_type": "code",
   "execution_count": 46,
   "metadata": {},
   "outputs": [
    {
     "name": "stdout",
     "output_type": "stream",
     "text": [
      "Apple M1 Pro\n"
     ]
    }
   ],
   "source": [
    "if sys.platform.startswith('linux'):\n",
    "    !lscpu\n",
    "elif sys.platform.startswith('darwin'):\n",
    "    !sysctl -n machdep.cpu.brand_string\n",
    "elif sys.platform.startswith('win'):\n",
    "    !wmic cpu get name"
   ]
  },
  {
   "cell_type": "markdown",
   "metadata": {},
   "source": [
    "# 2. Utility functions"
   ]
  },
  {
   "cell_type": "code",
   "execution_count": 47,
   "metadata": {},
   "outputs": [],
   "source": [
    "def get_tree1(num_leaves):\n",
    "    \"\"\"\n",
    "    Generate three trees with different format\n",
    "\n",
    "    param: num_leaves int: number of leaves in the tree\n",
    "    return: tsk_tree tskit.Tree: tskit tree,\n",
    "            phylokit_tree xarray.DataSet: phylokit tree,\n",
    "            dendropy_tree dendropy.Tree: dendropy tree\n",
    "    \"\"\"\n",
    "    tsk_tree = msprime.sim_ancestry(samples=num_leaves, ploidy=1, random_seed=10086).first(sample_lists=True)\n",
    "    #TODO update this to new dataset interface\n",
    "    pk_tree = tsk_tree # pk_tree = pk.from_tskit(tsk_tree)\n",
    "\n",
    "    newick_tree = tsk_tree.as_newick()\n",
    "    dendropy_tree = dendropy.Tree.get(data=newick_tree, schema=\"newick\")\n",
    "    return tsk_tree, pk_tree, dendropy_tree\n",
    "\n",
    "def get_tree2(num_leaves):\n",
    "    tsk_tree = msprime.sim_ancestry(samples=num_leaves, ploidy=1, random_seed=2022).first(sample_lists=True)\n",
    "    #TODO update this to new dataset interface\n",
    "    pk_tree = tsk_tree # pk_tree = pk.from_tskit(tsk_tree)\n",
    "\n",
    "    newick_tree = tsk_tree.as_newick()\n",
    "    dendropy_tree = dendropy.Tree.get(data=newick_tree, schema=\"newick\")\n",
    "    return tsk_tree, pk_tree, dendropy_tree"
   ]
  },
  {
   "cell_type": "markdown",
   "metadata": {},
   "source": [
    "# Time comparison with different package"
   ]
  },
  {
   "cell_type": "markdown",
   "metadata": {},
   "source": [
    "## 1. MRCA"
   ]
  },
  {
   "cell_type": "code",
   "execution_count": 56,
   "metadata": {},
   "outputs": [
    {
     "name": "stderr",
     "output_type": "stream",
     "text": [
      "100%|██████████| 10/10 [00:00<00:00, 15.76it/s]\n"
     ]
    }
   ],
   "source": [
    "mrca_tsk = []\n",
    "mrca_pk = []\n",
    "mrca_dendropy = []\n",
    "\n",
    "# generate three trees\n",
    "tsk_tree, pk_tree, dendropy_tree = get_tree1(LEAVES)\n",
    "\n",
    "mrca_tsk_temp = []\n",
    "mrca_pk_temp = []\n",
    "mrca_dendropy_temp = []\n",
    "\n",
    "u = randint(0, LEAVES)\n",
    "v = randint(0, LEAVES)\n",
    "\n",
    "# for dendropy\n",
    "taxon_labels = [\"n\" + str(u), \"n\" + str(v)]\n",
    "\n",
    "# warm up\n",
    "tsk_tree.mrca(u, v)\n",
    "pk.mrca(pk_tree, u, v)\n",
    "dendropy_tree.mrca(taxon_labels=taxon_labels)\n",
    "\n",
    "for j in trange(REPEAT):\n",
    "    tsk_start = time.time()\n",
    "    tsk_tree.mrca(u, v)\n",
    "    tsk_end = time.time()\n",
    "    mrca_tsk_temp.append(tsk_end - tsk_start)\n",
    "\n",
    "    pk_start = time.time()\n",
    "    pk.mrca(pk_tree, u, v)\n",
    "    pk_end = time.time()\n",
    "    mrca_pk_temp.append(pk_end - pk_start)\n",
    "\n",
    "    dendropy_start = time.time()\n",
    "    dendropy_tree.mrca(taxon_labels=taxon_labels)\n",
    "    dendropy_end = time.time()\n",
    "    mrca_dendropy_temp.append(dendropy_end - dendropy_start)"
   ]
  },
  {
   "cell_type": "code",
   "execution_count": 57,
   "metadata": {},
   "outputs": [
    {
     "name": "stdout",
     "output_type": "stream",
     "text": [
      "Tskit: 1.0657310485839844e-05 s\n",
      "Phylokit: 0.0028417348861694337 s\n",
      "Dendropy: 0.06031038761138916 s\n"
     ]
    }
   ],
   "source": [
    "tsk_mrca = np.mean(mrca_tsk_temp)\n",
    "pk_mrca = np.mean(mrca_pk_temp)\n",
    "dendropy_mrca = np.mean(mrca_dendropy_temp)\n",
    "\n",
    "print(\"Tskit:\", tsk_mrca, \"s\")\n",
    "print(\"Phylokit:\", pk_mrca, \"s\")\n",
    "print(\"Dendropy:\", dendropy_mrca, \"s\")"
   ]
  },
  {
   "cell_type": "code",
   "execution_count": 58,
   "metadata": {},
   "outputs": [
    {
     "data": {
      "image/png": "[encoded data removed]",
      "text/plain": [
       "<Figure size 432x288 with 1 Axes>"
      ]
     },
     "metadata": {
      "needs_background": "light"
     },
     "output_type": "display_data"
    }
   ],
   "source": [
    "names = ['tskit', 'phylokit', 'dendropy']\n",
    "values = [tsk_mrca, pk_mrca, dendropy_mrca]\n",
    "\n",
    "p = plt.bar(names, values, align='center')\n",
    "plt.title(\"MRCA Speed Comparison for {} leaves\".format(LEAVES))\n",
    "plt.bar_label(p)\n",
    "plt.show()"
   ]
  },
  {
   "cell_type": "markdown",
   "metadata": {},
   "source": [
    "## 2. Kendall-Colijn distance"
   ]
  },
  {
   "cell_type": "code",
   "execution_count": null,
   "metadata": {},
   "outputs": [
    {
     "name": "stderr",
     "output_type": "stream",
     "text": [
      "900 leaves: 100%|██████████| 9/9 [00:03<00:00,  2.35it/s]\n"
     ]
    }
   ],
   "source": [
    "kc_tsk = []\n",
    "kc_pk = []\n",
    "\n",
    "progress = tqdm(NUM_LEAVES, position=0)\n",
    "\n",
    "for i in progress:\n",
    "    progress.set_description(\"{} leaves\".format(i))\n",
    "\n",
    "    # generate three trees\n",
    "    tsk_tree1, pk_tree1, dendropy_tree1 = get_tree1(i)\n",
    "    tsk_tree2, pk_tree2, dendropy_tree2 = get_tree2(i)\n",
    "\n",
    "    kc_pk_temp = []\n",
    "    kc_tsk_temp = []\n",
    "\n",
    "    # warm up\n",
    "    tsk_tree1.kc_distance(tsk_tree2, 1)\n",
    "    pk.kc_distance(pk_tree1, pk_tree2, 1)\n",
    "\n",
    "    for _ in range(REPEAT):\n",
    "        tsk_start = time.time()\n",
    "        tsk_tree1.kc_distance(tsk_tree2, 1)\n",
    "        tsk_end = time.time()\n",
    "        kc_tsk_temp.append(tsk_end - tsk_start)\n",
    "\n",
    "        pk_start = time.time()\n",
    "        pk.kc_distance(pk_tree1, pk_tree2, 1)\n",
    "        pk_end = time.time()\n",
    "        kc_pk_temp.append(pk_end - pk_start)\n",
    "        \n",
    "    kc_tsk.append(np.mean(kc_tsk_temp))\n",
    "    kc_pk.append(np.mean(kc_pk_temp))\n"
   ]
  },
  {
   "cell_type": "code",
   "execution_count": null,
   "metadata": {},
   "outputs": [
    {
     "data": {
      "image/png": "[encoded data removed]",
      "text/plain": [
       "<Figure size 432x288 with 1 Axes>"
      ]
     },
     "metadata": {
      "needs_background": "light"
     },
     "output_type": "display_data"
    }
   ],
   "source": [
    "plt.plot(NUM_LEAVES, kc_tsk, label='tskit')\n",
    "plt.plot(NUM_LEAVES, kc_pk, label='phylokit')\n",
    "plt.xlabel(\"Number of Leaves\")\n",
    "plt.ylabel(\"Time (s)\")\n",
    "plt.legend()\n",
    "plt.show()"
   ]
  },
  {
   "cell_type": "code",
   "execution_count": null,
   "metadata": {},
   "outputs": [],
   "source": [
    "def naive_kc_distance(tree1, tree2, lambda_=0):\n",
    "    \"\"\"\n",
    "    Returns the Kendall-Colijn distance between the specified pair of trees.\n",
    "    lambda_ determines weight of topology vs branch lengths in calculating\n",
    "    the distance. Set lambda_ at 0 to only consider topology, set at 1 to\n",
    "    only consider branch lengths. See Kendall & Colijn (2016):\n",
    "    https://academic.oup.com/mbe/article/33/10/2735/2925548\n",
    "    \"\"\"\n",
    "    samples = tree1.tree_sequence.samples()\n",
    "    if not np.array_equal(samples, tree2.tree_sequence.samples()):\n",
    "        raise ValueError(\"Trees must have the same samples\")\n",
    "    if not len(tree1.roots) == len(tree2.roots) == 1:\n",
    "        raise ValueError(\"Trees must have one root\")\n",
    "    for tree in [tree1, tree2]:\n",
    "        for u in tree.nodes():\n",
    "            if tree.num_children(u) == 1:\n",
    "                raise ValueError(\"Unary nodes are not supported\")\n",
    "\n",
    "    n = samples.shape[0]\n",
    "    N = (n * (n - 1)) // 2\n",
    "    m = [np.zeros(N + n), np.zeros(N + n)]\n",
    "    M = [np.zeros(N + n), np.zeros(N + n)]\n",
    "    for tree_index, tree in enumerate([tree1, tree2]):\n",
    "        for sample in range(n):\n",
    "            m[tree_index][N + sample] = 1\n",
    "            M[tree_index][N + sample] = tree.branch_length(sample)\n",
    "\n",
    "        for n1, n2 in itertools.combinations(range(n), 2):\n",
    "            mrca = tree.mrca(samples[n1], samples[n2])\n",
    "            depth = 0\n",
    "            u = tree.parent(mrca)\n",
    "            while u != tskit.NULL:\n",
    "                depth += 1\n",
    "                u = tree.parent(u)\n",
    "            pair_index = n1 * (n1 - 2 * n + 1) // -2 + n2 - n1 - 1\n",
    "            m[tree_index][pair_index] = depth\n",
    "            M[tree_index][pair_index] = tree.time(tree.root) - tree.time(mrca)\n",
    "\n",
    "    return np.linalg.norm((1 - lambda_) * (m[0] - m[1]) + lambda_ * (M[0] - M[1]))"
   ]
  },
  {
   "cell_type": "code",
   "execution_count": null,
   "metadata": {},
   "outputs": [
    {
     "name": "stderr",
     "output_type": "stream",
     "text": [
      "900 leaves: 100%|██████████| 9/9 [01:10<00:00,  7.88s/it]\n"
     ]
    }
   ],
   "source": [
    "kc_naive = []\n",
    "kc_pk = []\n",
    "\n",
    "progress = tqdm(NUM_LEAVES, position=0)\n",
    "\n",
    "for i in progress:\n",
    "    progress.set_description(\"{} leaves\".format(i))\n",
    "\n",
    "    # generate trees\n",
    "    tsk_tree1, pk_tree1, dendropy_tree1 = get_tree1(i)\n",
    "    tsk_tree2, pk_tree2, dendropy_tree2 = get_tree2(i)\n",
    "\n",
    "    kc_naive_temp = []\n",
    "    kc_pk_temp = []\n",
    "\n",
    "    # warm up\n",
    "    naive_kc_distance(tsk_tree1, tsk_tree2, 1)\n",
    "    pk.kc_distance(pk_tree1, pk_tree2, 1)\n",
    "\n",
    "    for _ in range(REPEAT):\n",
    "        naive_start = time.time()\n",
    "        naive_kc_distance(tsk_tree1, tsk_tree2, 1)\n",
    "        naive_end = time.time()\n",
    "        kc_naive_temp.append(naive_end - naive_start)\n",
    "\n",
    "        pk_start = time.time()\n",
    "        pk.kc_distance(pk_tree1, pk_tree2, 1)\n",
    "        pk_end = time.time()\n",
    "        kc_pk_temp.append(pk_end - pk_start)\n",
    "    \n",
    "    kc_naive.append(np.mean(kc_naive_temp))\n",
    "    kc_pk.append(np.mean(kc_pk_temp))\n"
   ]
  },
  {
   "cell_type": "code",
   "execution_count": null,
   "metadata": {},
   "outputs": [
    {
     "data": {
      "image/png": "[encoded data removed]",
      "text/plain": [
       "<Figure size 432x288 with 1 Axes>"
      ]
     },
     "metadata": {
      "needs_background": "light"
     },
     "output_type": "display_data"
    }
   ],
   "source": [
    "plt.plot(NUM_LEAVES, kc_naive, label='naive kc')\n",
    "plt.plot(NUM_LEAVES, kc_pk, label='phyloki kc')\n",
    "plt.xlabel(\"Number of Leaves\")\n",
    "plt.ylabel(\"Time (s)\")\n",
    "plt.legend()\n",
    "plt.show()"
   ]
  }
 ],
 "metadata": {
  "kernelspec": {
   "display_name": "Python 3.9.13 ('tskit')",
   "language": "python",
   "name": "python3"
  },
  "language_info": {
   "codemirror_mode": {
    "name": "ipython",
    "version": 3
   },
   "file_extension": ".py",
   "mimetype": "text/x-python",
   "name": "python",
   "nbconvert_exporter": "python",
   "pygments_lexer": "ipython3",
   "version": "3.9.13"
  },
  "orig_nbformat": 4,
  "vscode": {
   "interpreter": {
    "hash": "9276984e1f289179d523f94485bdc0be4a97efe0efc9a71d26026f80f8387b2b"
   }
  }
 },
 "nbformat": 4,
 "nbformat_minor": 2
}
